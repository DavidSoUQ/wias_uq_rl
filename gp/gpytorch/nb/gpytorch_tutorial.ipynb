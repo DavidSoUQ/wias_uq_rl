{
 "cells": [
  {
   "cell_type": "code",
   "execution_count": 1,
   "metadata": {},
   "outputs": [
    {
     "name": "stdout",
     "output_type": "stream",
     "text": [
      "Requirement already satisfied: torch in /Users/mohamedbaddar/Documents/mbaddar/my_projects/phd/wias_uq_rl/wias_uq_rl/venv/lib/python3.7/site-packages (1.6.0)\r\n",
      "Requirement already satisfied: numpy in /Users/mohamedbaddar/Documents/mbaddar/my_projects/phd/wias_uq_rl/wias_uq_rl/venv/lib/python3.7/site-packages (from torch) (1.19.1)\r\n",
      "Requirement already satisfied: future in /Users/mohamedbaddar/Documents/mbaddar/my_projects/phd/wias_uq_rl/wias_uq_rl/venv/lib/python3.7/site-packages (from torch) (0.18.2)\r\n"
     ]
    }
   ],
   "source": [
    "!pip3 install torch"
   ]
  },
  {
   "cell_type": "code",
   "execution_count": 2,
   "metadata": {},
   "outputs": [
    {
     "name": "stdout",
     "output_type": "stream",
     "text": [
      "The autoreload extension is already loaded. To reload it, use:\n",
      "  %reload_ext autoreload\n"
     ]
    }
   ],
   "source": [
    "\"\"\"\n",
    "Tutorial Link\n",
    "https://docs.gpytorch.ai/en/v1.1.1/examples/01_Exact_GPs/Simple_GP_Regression.html\n",
    "\"\"\"\n",
    "import math\n",
    "import torch\n",
    "import gpytorch\n",
    "from matplotlib import pyplot as plt\n",
    "\n",
    "%matplotlib inline\n",
    "%load_ext autoreload\n",
    "%autoreload 2"
   ]
  },
  {
   "cell_type": "code",
   "execution_count": 4,
   "metadata": {
    "scrolled": true
   },
   "outputs": [
    {
     "data": {
      "text/plain": [
       "tensor([0.0000, 0.0101, 0.0202, 0.0303, 0.0404, 0.0505, 0.0606, 0.0707, 0.0808,\n",
       "        0.0909, 0.1010, 0.1111, 0.1212, 0.1313, 0.1414, 0.1515, 0.1616, 0.1717,\n",
       "        0.1818, 0.1919, 0.2020, 0.2121, 0.2222, 0.2323, 0.2424, 0.2525, 0.2626,\n",
       "        0.2727, 0.2828, 0.2929, 0.3030, 0.3131, 0.3232, 0.3333, 0.3434, 0.3535,\n",
       "        0.3636, 0.3737, 0.3838, 0.3939, 0.4040, 0.4141, 0.4242, 0.4343, 0.4444,\n",
       "        0.4545, 0.4646, 0.4747, 0.4848, 0.4949, 0.5051, 0.5152, 0.5253, 0.5354,\n",
       "        0.5455, 0.5556, 0.5657, 0.5758, 0.5859, 0.5960, 0.6061, 0.6162, 0.6263,\n",
       "        0.6364, 0.6465, 0.6566, 0.6667, 0.6768, 0.6869, 0.6970, 0.7071, 0.7172,\n",
       "        0.7273, 0.7374, 0.7475, 0.7576, 0.7677, 0.7778, 0.7879, 0.7980, 0.8081,\n",
       "        0.8182, 0.8283, 0.8384, 0.8485, 0.8586, 0.8687, 0.8788, 0.8889, 0.8990,\n",
       "        0.9091, 0.9192, 0.9293, 0.9394, 0.9495, 0.9596, 0.9697, 0.9798, 0.9899,\n",
       "        1.0000])"
      ]
     },
     "execution_count": 4,
     "metadata": {},
     "output_type": "execute_result"
    }
   ],
   "source": [
    "train_x = torch.linspace(0, 1, 100)\n",
    "train_x"
   ]
  },
  {
   "cell_type": "code",
   "execution_count": 6,
   "metadata": {
    "scrolled": false
   },
   "outputs": [
    {
     "data": {
      "text/plain": [
       "tensor([ 0.2024, -0.3258,  0.1803,  0.4939, -0.1848,  0.6022,  0.4240,  0.0371,\n",
       "         0.5021,  0.4005,  0.7537,  0.5574,  0.8690,  1.1187,  0.7790,  1.0195,\n",
       "         0.6448,  0.7714,  0.7656,  0.9589,  1.3223,  0.7638,  0.9596,  1.2103,\n",
       "         0.9602,  1.1003,  0.9831,  0.9083,  1.1506,  1.0680,  0.2355,  1.1495,\n",
       "         1.0044,  0.9834,  0.4339,  0.5804,  0.9291,  0.7148,  0.4866,  0.5133,\n",
       "         0.4361,  0.3236,  0.3235,  0.0832,  0.2630,  0.3933, -0.0049,  0.4554,\n",
       "        -0.1990,  0.1232, -0.2940, -0.1687,  0.1661, -0.4264, -0.1741, -0.3788,\n",
       "        -0.0068, -0.3120, -0.5707, -0.7505, -0.9600, -0.4254, -0.6055, -0.9597,\n",
       "        -0.7350, -0.9695, -1.0302, -0.6505, -0.7119, -0.7625, -0.8527, -1.1905,\n",
       "        -0.7379, -1.1246, -1.2496, -0.9959, -0.9987, -1.0660, -1.0478, -0.6774,\n",
       "        -0.9085, -0.6889, -0.8102, -0.6314, -1.1863, -0.5677, -0.8591, -0.7778,\n",
       "        -0.7914, -0.6132, -0.5392, -0.5482, -0.3231,  0.0895, -0.4591, -0.0666,\n",
       "        -0.7168, -0.0347, -0.0431, -0.2170])"
      ]
     },
     "execution_count": 6,
     "metadata": {},
     "output_type": "execute_result"
    }
   ],
   "source": [
    "train_y = torch.sin(train_x * (2 * math.pi)) + torch.randn(train_x.size()) * math.sqrt(0.04)\n",
    "train_y"
   ]
  },
  {
   "cell_type": "code",
   "execution_count": null,
   "metadata": {},
   "outputs": [],
   "source": []
  }
 ],
 "metadata": {
  "kernelspec": {
   "display_name": "Python 3",
   "language": "python",
   "name": "python3"
  },
  "language_info": {
   "codemirror_mode": {
    "name": "ipython",
    "version": 3
   },
   "file_extension": ".py",
   "mimetype": "text/x-python",
   "name": "python",
   "nbconvert_exporter": "python",
   "pygments_lexer": "ipython3",
   "version": "3.7.6"
  }
 },
 "nbformat": 4,
 "nbformat_minor": 4
}
